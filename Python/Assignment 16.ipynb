{
 "cells": [
  {
   "cell_type": "markdown",
   "id": "f6b06f38",
   "metadata": {},
   "source": [
    "# 1. Create a list called years_list, starting with the year of your birth, and each year thereafter until the year of your fifth birthday. For example, if you were born in 1980. the list would be years_list =\n",
    "[1980, 1981, 1982, 1983, 1984, 1985]."
   ]
  },
  {
   "cell_type": "code",
   "execution_count": 4,
   "id": "9e4be65f",
   "metadata": {},
   "outputs": [
    {
     "name": "stdout",
     "output_type": "stream",
     "text": [
      "[1999, 2000, 2001, 2002, 2003, 2004, 2005, 2006, 2007, 2008, 2009, 2010, 2011, 2012, 2013, 2014, 2015, 2016, 2017, 2018, 2019, 2020, 2021, 2022]\n"
     ]
    }
   ],
   "source": [
    "birth_year = 1999\n",
    "\n",
    "years_list = list(range(birth_year, birth_year + 24))\n",
    "\n",
    "print(years_list)\n"
   ]
  },
  {
   "cell_type": "markdown",
   "id": "41e62d7f",
   "metadata": {},
   "source": [
    "# 2. In which year in years_list was your third birthday? Remember, you were 0 years of age for your first year."
   ]
  },
  {
   "cell_type": "code",
   "execution_count": 7,
   "id": "a7320654",
   "metadata": {},
   "outputs": [
    {
     "name": "stdout",
     "output_type": "stream",
     "text": [
      "2002\n"
     ]
    }
   ],
   "source": [
    "birth_year = 1999\n",
    "\n",
    "years_list = list(range(birth_year, birth_year + 6))\n",
    "\n",
    "third_birthday_year = years_list[3]\n",
    "\n",
    "print(third_birthday_year)\n"
   ]
  },
  {
   "cell_type": "markdown",
   "id": "bad43e60",
   "metadata": {},
   "source": [
    "# 3.In the years list, which year were you the oldest?"
   ]
  },
  {
   "cell_type": "code",
   "execution_count": 9,
   "id": "7153cb12",
   "metadata": {},
   "outputs": [
    {
     "name": "stdout",
     "output_type": "stream",
     "text": [
      "2004\n"
     ]
    }
   ],
   "source": [
    "birth_year = 1999\n",
    "\n",
    "years_list = list(range(birth_year, birth_year + 6))\n",
    "\n",
    "oldest_year = years_list[-1]\n",
    "\n",
    "print(oldest_year)\n"
   ]
  },
  {
   "cell_type": "markdown",
   "id": "92386d26",
   "metadata": {},
   "source": [
    "# 4. Make a list called things with these three strings as elements: &quot;mozzarella&quot;, &quot;cinderella&quot;, &quot;salmonella&quot;."
   ]
  },
  {
   "cell_type": "code",
   "execution_count": 12,
   "id": "f2214e2f",
   "metadata": {},
   "outputs": [],
   "source": [
    "things = [\"mozzarella\", \"cinderella\", \"salmonella\"]\n",
    "\n"
   ]
  },
  {
   "cell_type": "code",
   "execution_count": 13,
   "id": "86aec3dd",
   "metadata": {},
   "outputs": [
    {
     "name": "stdout",
     "output_type": "stream",
     "text": [
      "mozzarella\n",
      "cinderella\n",
      "salmonella\n"
     ]
    }
   ],
   "source": [
    "print(things[0]) # \"mozzarella\"\n",
    "print(things[1]) # \"cinderella\"\n",
    "print(things[2]) # \"salmonella\"\n"
   ]
  },
  {
   "cell_type": "markdown",
   "id": "279b13d3",
   "metadata": {},
   "source": [
    "# 5. Capitalize the element in things that refers to a person and then print the list. Did it change the element in the list?"
   ]
  },
  {
   "cell_type": "code",
   "execution_count": 14,
   "id": "f778918a",
   "metadata": {},
   "outputs": [
    {
     "name": "stdout",
     "output_type": "stream",
     "text": [
      "['mozzarella', 'Cinderella', 'salmonella']\n"
     ]
    }
   ],
   "source": [
    "things = [\"mozzarella\", \"cinderella\", \"salmonella\"]\n",
    "\n",
    "things[1] = things[1].capitalize()\n",
    "\n",
    "print(things)\n"
   ]
  },
  {
   "cell_type": "markdown",
   "id": "b1306f30",
   "metadata": {},
   "source": [
    "# 6. Make a surprise list with the elements &quot;Groucho,&quot; &quot;Chico,&quot; and &quot;Harpo.&quot;"
   ]
  },
  {
   "cell_type": "code",
   "execution_count": 16,
   "id": "0b0ae11c",
   "metadata": {},
   "outputs": [],
   "source": [
    "surprise = [\"Groucho\", \"Chico\", \"Harpo\"]\n"
   ]
  },
  {
   "cell_type": "code",
   "execution_count": 17,
   "id": "189ea2d1",
   "metadata": {},
   "outputs": [
    {
     "name": "stdout",
     "output_type": "stream",
     "text": [
      "Groucho\n",
      "Chico\n",
      "Harpo\n"
     ]
    }
   ],
   "source": [
    "print(surprise[0]) # \"Groucho\"\n",
    "print(surprise[1]) # \"Chico\"\n",
    "print(surprise[2]) # \"Harpo\"\n"
   ]
  },
  {
   "cell_type": "markdown",
   "id": "46dffdbe",
   "metadata": {},
   "source": [
    "# 7. Lowercase the last element of the surprise list, reverse it, and then capitalize it."
   ]
  },
  {
   "cell_type": "code",
   "execution_count": 18,
   "id": "4ff6b3a2",
   "metadata": {},
   "outputs": [
    {
     "name": "stdout",
     "output_type": "stream",
     "text": [
      "['Groucho', 'Chico', 'Oprah']\n"
     ]
    }
   ],
   "source": [
    "surprise = [\"Groucho\", \"Chico\", \"Harpo\"]\n",
    "\n",
    "# Lowercase the last element of the list\n",
    "last_element = surprise[-1].lower()\n",
    "\n",
    "# Reverse the last element of the list\n",
    "last_element = last_element[::-1]\n",
    "\n",
    "# Capitalize the last element of the list\n",
    "last_element = last_element.capitalize()\n",
    "\n",
    "# Replace the last element of the list with the updated version\n",
    "surprise[-1] = last_element\n",
    "\n",
    "print(surprise)\n"
   ]
  },
  {
   "cell_type": "markdown",
   "id": "2811087b",
   "metadata": {},
   "source": [
    "# 8. Make an English-to-French dictionary called e2f and print it. Here are your starter words: dog is chien, cat is chat, and walrus is morse."
   ]
  },
  {
   "cell_type": "code",
   "execution_count": 19,
   "id": "62a1b9de",
   "metadata": {},
   "outputs": [
    {
     "name": "stdout",
     "output_type": "stream",
     "text": [
      "{'dog': 'chien', 'cat': 'chat', 'walrus': 'morse'}\n"
     ]
    }
   ],
   "source": [
    "e2f = {\"dog\": \"chien\", \"cat\": \"chat\", \"walrus\": \"morse\"}\n",
    "\n",
    "print(e2f)\n"
   ]
  },
  {
   "cell_type": "markdown",
   "id": "390422a8",
   "metadata": {},
   "source": [
    "# 9. Write the French word for walrus in your three-word dictionary e2f."
   ]
  },
  {
   "cell_type": "code",
   "execution_count": 20,
   "id": "574b92d5",
   "metadata": {},
   "outputs": [
    {
     "name": "stdout",
     "output_type": "stream",
     "text": [
      "morse\n"
     ]
    }
   ],
   "source": [
    "e2f = {\"dog\": \"chien\", \"cat\": \"chat\", \"walrus\": \"morse\"}\n",
    "\n",
    "print(e2f[\"walrus\"])\n"
   ]
  },
  {
   "cell_type": "markdown",
   "id": "498ee6b9",
   "metadata": {},
   "source": [
    "# 10. Make a French-to-English dictionary called f2e from e2f. Use the items method."
   ]
  },
  {
   "cell_type": "code",
   "execution_count": 22,
   "id": "ed399eaa",
   "metadata": {},
   "outputs": [
    {
     "name": "stdout",
     "output_type": "stream",
     "text": [
      "{'chien': 'dog', 'chat': 'cat', 'morse': 'walrus'}\n"
     ]
    }
   ],
   "source": [
    "e2f = {\"dog\": \"chien\", \"cat\": \"chat\", \"walrus\": \"morse\"}\n",
    "\n",
    "f2e = {}\n",
    "for english, french in e2f.items():\n",
    "    f2e[french] = english\n",
    "\n",
    "print(f2e)\n"
   ]
  },
  {
   "cell_type": "markdown",
   "id": "93740a7e",
   "metadata": {},
   "source": [
    "# 11. Print the English version of the French word chien using f2e."
   ]
  },
  {
   "cell_type": "code",
   "execution_count": 23,
   "id": "2bda7d55",
   "metadata": {},
   "outputs": [
    {
     "name": "stdout",
     "output_type": "stream",
     "text": [
      "dog\n"
     ]
    }
   ],
   "source": [
    "f2e = {\"chien\": \"dog\", \"chat\": \"cat\", \"morse\": \"walrus\"}\n",
    "\n",
    "print(f2e[\"chien\"])\n"
   ]
  },
  {
   "cell_type": "markdown",
   "id": "280f207b",
   "metadata": {},
   "source": [
    "# 12. Make and print a set of English words from the keys in e2f."
   ]
  },
  {
   "cell_type": "code",
   "execution_count": 24,
   "id": "7ca74a23",
   "metadata": {},
   "outputs": [
    {
     "name": "stdout",
     "output_type": "stream",
     "text": [
      "{'cat', 'walrus', 'dog'}\n"
     ]
    }
   ],
   "source": [
    "e2f = {\"dog\": \"chien\", \"cat\": \"chat\", \"walrus\": \"morse\"}\n",
    "\n",
    "english_words = set(e2f.keys())\n",
    "\n",
    "print(english_words)\n"
   ]
  },
  {
   "cell_type": "markdown",
   "id": "eb742280",
   "metadata": {},
   "source": [
    "# 13. Make a multilevel dictionary called life. Use these strings for the topmost keys: &#39;animals&#39;, &#39;plants&#39;,and &#39;other&#39;. Make the &#39;animals&#39; key refer to another dictionary with the keys &#39;cats&#39;, &#39;octopi&#39;, and&#39;emus&#39;. Make the &#39;cats&#39; key refer to a list of strings with the values &#39;Henri&#39;, &#39;Grumpy&#39;, and &#39;Lucy&#39;. Make all the other keys refer to empty dictionaries."
   ]
  },
  {
   "cell_type": "code",
   "execution_count": 25,
   "id": "c2b284dc",
   "metadata": {},
   "outputs": [
    {
     "name": "stdout",
     "output_type": "stream",
     "text": [
      "{'animals': {'cats': ['Henri', 'Grumpy', 'Lucy'], 'octopi': {}, 'emus': {}}, 'plants': {}, 'other': {}}\n"
     ]
    }
   ],
   "source": [
    "life = {\n",
    "    \"animals\": {\n",
    "        \"cats\": [\"Henri\", \"Grumpy\", \"Lucy\"],\n",
    "        \"octopi\": {},\n",
    "        \"emus\": {}\n",
    "    },\n",
    "    \"plants\": {},\n",
    "    \"other\": {}\n",
    "}\n",
    "\n",
    "print(life)\n"
   ]
  },
  {
   "cell_type": "markdown",
   "id": "b865c695",
   "metadata": {},
   "source": [
    "# 14. Print the top-level keys of life."
   ]
  },
  {
   "cell_type": "code",
   "execution_count": 26,
   "id": "2aaf1ee9",
   "metadata": {},
   "outputs": [
    {
     "name": "stdout",
     "output_type": "stream",
     "text": [
      "dict_keys(['animals', 'plants', 'other'])\n"
     ]
    }
   ],
   "source": [
    "print(life.keys())\n"
   ]
  },
  {
   "cell_type": "markdown",
   "id": "fb2102f6",
   "metadata": {},
   "source": [
    "# 15. Print the keys for life[&#39;animals&#39;]."
   ]
  },
  {
   "cell_type": "code",
   "execution_count": 27,
   "id": "735470e3",
   "metadata": {},
   "outputs": [
    {
     "name": "stdout",
     "output_type": "stream",
     "text": [
      "dict_keys(['cats', 'octopi', 'emus'])\n"
     ]
    }
   ],
   "source": [
    "print(life['animals'].keys())\n"
   ]
  }
 ],
 "metadata": {
  "kernelspec": {
   "display_name": "Python 3 (ipykernel)",
   "language": "python",
   "name": "python3"
  },
  "language_info": {
   "codemirror_mode": {
    "name": "ipython",
    "version": 3
   },
   "file_extension": ".py",
   "mimetype": "text/x-python",
   "name": "python",
   "nbconvert_exporter": "python",
   "pygments_lexer": "ipython3",
   "version": "3.10.9"
  }
 },
 "nbformat": 4,
 "nbformat_minor": 5
}
