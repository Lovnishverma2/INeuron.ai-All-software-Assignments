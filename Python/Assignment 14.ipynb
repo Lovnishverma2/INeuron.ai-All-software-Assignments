{
 "cells": [
  {
   "cell_type": "markdown",
   "id": "18c800f4",
   "metadata": {},
   "source": [
    "# 1. What does RGBA stand for?\n",
    ".RGBA stands for \"Red, Green, Blue, Alpha\". It is a color model used in digital imaging and computer graphics to represent colors using a combination of red, green, and blue light, as well as an alpha channel for transparency.\n",
    "\n",
    ".The RGBA color model is similar to the RGB color model, which only uses red, green, and blue channels to represent colors. However, the RGBA model also includes an alpha channel, which represents the transparency of the color. The alpha channel value ranges from 0 (fully transparent) to 255 (fully opaque)."
   ]
  },
  {
   "cell_type": "markdown",
   "id": "27364307",
   "metadata": {},
   "source": [
    "# 2. From the Pillow module, how do you get the RGBA value of any images?"
   ]
  },
  {
   "cell_type": "markdown",
   "id": "7bdb3650",
   "metadata": {},
   "source": [
    "To get the RGBA value of any image using the Pillow module in Python, you can use the getdata() method of the Image object."
   ]
  },
  {
   "cell_type": "code",
   "execution_count": null,
   "id": "ebc28f28",
   "metadata": {},
   "outputs": [],
   "source": [
    "from PIL import Image\n",
    "\n",
    "# Open an image file\n",
    "image = Image.open('image.png')\n",
    "\n",
    "# Get the RGBA values of each pixel in the image\n",
    "pixels = image.getdata()\n",
    "\n",
    "# Print the first 10 pixels\n",
    "for i in range(10):\n",
    "    print(pixels[i])"
   ]
  },
  {
   "cell_type": "markdown",
   "id": "1b64cb65",
   "metadata": {},
   "source": [
    "# 3. What is a box tuple, and how does it work?"
   ]
  },
  {
   "cell_type": "markdown",
   "id": "bf26df1b",
   "metadata": {},
   "source": [
    "The box tuple is often used as an argument to many of the image processing methods in the Pillow module, such as cropping, resizing, and pasting images."
   ]
  },
  {
   "cell_type": "code",
   "execution_count": null,
   "id": "2eb6c98b",
   "metadata": {},
   "outputs": [],
   "source": [
    "from PIL import Image\n",
    "\n",
    "# Open an image file\n",
    "image = Image.open('example.png')\n",
    "\n",
    "# Define a box tuple to crop the image\n",
    "box = (100, 100, 200, 200)\n",
    "\n",
    "# Crop the image using the box tuple\n",
    "cropped_image = image.crop(box)\n",
    "\n",
    "# Save the cropped image to a file\n",
    "cropped_image.save('cropped.png')"
   ]
  },
  {
   "cell_type": "markdown",
   "id": "98ca6616",
   "metadata": {},
   "source": [
    "# 4. Use your image and load in notebook then, How can you find out the width and height of an Image object?"
   ]
  },
  {
   "cell_type": "code",
   "execution_count": null,
   "id": "4a729e38",
   "metadata": {},
   "outputs": [],
   "source": [
    "from PIL import Image\n",
    "import requests\n",
    "from io import BytesIO\n",
    "\n",
    "# Load the image from a URL (replace with your own image URL)\n",
    "response = requests.get(\"https://example.com/myimage.png\")\n",
    "image = Image.open(BytesIO(response.content))\n",
    "\n",
    "# Get the width and height of the image\n",
    "width, height = image.size\n",
    "\n",
    "# Print the width and height\n",
    "print(\"Width:\", width)\n",
    "print(\"Height:\", height)"
   ]
  },
  {
   "cell_type": "markdown",
   "id": "67def244",
   "metadata": {},
   "source": [
    "# 5. What method would you call to get Image object for a 100×100 image, excluding the lower-left quarter of it?"
   ]
  },
  {
   "cell_type": "code",
   "execution_count": null,
   "id": "43e6f15c",
   "metadata": {},
   "outputs": [],
   "source": [
    "from PIL import Image\n",
    "\n",
    "# Open the image file\n",
    "image = Image.open('example.png')\n",
    "\n",
    "# Define the box tuple to crop the lower-left quarter of the image\n",
    "box = (0, 0, 50, 50)\n",
    "\n",
    "# Crop the image using the box tuple\n",
    "cropped_image = image.crop(box)\n",
    "\n",
    "# Resize the cropped image to 100x100 pixels\n",
    "resized_image = cropped_image.resize((100, 100))\n",
    "\n",
    "# Show the resulting image\n",
    "resized_image.show()"
   ]
  },
  {
   "cell_type": "markdown",
   "id": "d80bfbfd",
   "metadata": {},
   "source": [
    "# 6. After making changes to an Image object, how could you save it as an image file?"
   ]
  },
  {
   "cell_type": "code",
   "execution_count": null,
   "id": "f4d1e691",
   "metadata": {},
   "outputs": [],
   "source": [
    "from PIL import Image\n",
    "\n",
    "# Open the image file\n",
    "image = Image.open('example.png')\n",
    "\n",
    "# Make some changes to the image\n",
    "# ...\n",
    "\n",
    "# Save the modified image to a file\n",
    "image.save('modified.png')"
   ]
  },
  {
   "cell_type": "markdown",
   "id": "13c6ff5a",
   "metadata": {},
   "source": [
    "# 7. What module contains Pillow’s shape-drawing code?"
   ]
  },
  {
   "cell_type": "code",
   "execution_count": null,
   "id": "0cc0c722",
   "metadata": {},
   "outputs": [],
   "source": [
    "from PIL import Image, ImageDraw\n",
    "\n",
    "# Create a new image object\n",
    "image = Image.new('RGBA', (500, 500), 'white')\n",
    "\n",
    "# Create an ImageDraw object for drawing on the image\n",
    "draw = ImageDraw.Draw(image)\n",
    "\n",
    "# Draw a rectangle on the image\n",
    "draw.rectangle((100, 100, 400, 400), fill='red', outline='black')\n",
    "\n",
    "# Show the resulting image\n",
    "image.show()"
   ]
  },
  {
   "cell_type": "markdown",
   "id": "c995d7c6",
   "metadata": {},
   "source": [
    "# 8. Image objects do not have drawing methods. What kind of object does? How do you get this kind of object?"
   ]
  },
  {
   "cell_type": "markdown",
   "id": "5746d450",
   "metadata": {},
   "source": [
    "Image objects do not have built-in drawing methods, but you can use the 'ImageDraw' module to create a separate 'ImageDraw' object that can be used to draw shapes, lines, text, and other graphical elements on an Image object. The 'ImageDraw' module provides a number of methods for drawing on images, including line(), rectangle(), ellipse(), polygon(), text(), and more."
   ]
  },
  {
   "cell_type": "code",
   "execution_count": null,
   "id": "4a6340dc",
   "metadata": {},
   "outputs": [],
   "source": [
    "from PIL import Image, ImageDraw\n",
    "\n",
    "# Create a new image object\n",
    "image = Image.new('RGB', (300, 300), color='white')\n",
    "\n",
    "# Get an ImageDraw object for the image\n",
    "draw = ImageDraw.Draw(image)\n",
    "\n",
    "# Draw a line on the image\n",
    "draw.line((0, 0, 300, 300), fill='black', width=5)\n",
    "\n",
    "# Save the image to a file\n",
    "image.save('line.png')"
   ]
  }
 ],
 "metadata": {
  "kernelspec": {
   "display_name": "Python 3 (ipykernel)",
   "language": "python",
   "name": "python3"
  },
  "language_info": {
   "codemirror_mode": {
    "name": "ipython",
    "version": 3
   },
   "file_extension": ".py",
   "mimetype": "text/x-python",
   "name": "python",
   "nbconvert_exporter": "python",
   "pygments_lexer": "ipython3",
   "version": "3.9.7"
  }
 },
 "nbformat": 4,
 "nbformat_minor": 5
}
