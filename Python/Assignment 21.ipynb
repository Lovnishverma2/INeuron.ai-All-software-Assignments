{
 "cells": [
  {
   "cell_type": "markdown",
   "id": "8cb2bed6",
   "metadata": {},
   "source": [
    "# 1. Add the current date to the text file today.txt as a string."
   ]
  },
  {
   "cell_type": "code",
   "execution_count": 1,
   "id": "f3475078",
   "metadata": {},
   "outputs": [],
   "source": [
    "from datetime import date\n",
    "\n",
    "# get current date\n",
    "today = date.today()\n",
    "\n",
    "# open file in append mode\n",
    "with open('today.txt', 'a') as file:\n",
    "    # write date to file\n",
    "    file.write(str(today) + '\\n')\n"
   ]
  },
  {
   "cell_type": "markdown",
   "id": "60604e64",
   "metadata": {},
   "source": [
    "# 2. Read the text file today.txt into the string today_string"
   ]
  },
  {
   "cell_type": "code",
   "execution_count": null,
   "id": "da836eed",
   "metadata": {},
   "outputs": [],
   "source": [
    "with open(\"today.txt\", \"r\") as f:\n",
    "    today_string = f.read()\n"
   ]
  },
  {
   "cell_type": "markdown",
   "id": "8c6f7e2d",
   "metadata": {},
   "source": [
    "# 3. Parse the date from today_string."
   ]
  },
  {
   "cell_type": "markdown",
   "id": "24ac0117",
   "metadata": {},
   "source": [
    "* To parse the date from the string, we need to import the datetime module and use its strptime() method. \n",
    "Here's an example:"
   ]
  },
  {
   "cell_type": "code",
   "execution_count": null,
   "id": "8b560a15",
   "metadata": {},
   "outputs": [],
   "source": [
    "import os\n",
    "\n",
    "parent_dir = os.path.abspath(os.path.join(os.getcwd(), os.pardir))\n",
    "files = os.listdir(parent_dir)\n",
    "\n",
    "for file in files:\n",
    "    print(file)\n"
   ]
  },
  {
   "cell_type": "markdown",
   "id": "f0db2de8",
   "metadata": {},
   "source": [
    "# 4. List the files in your current directory"
   ]
  },
  {
   "cell_type": "code",
   "execution_count": 3,
   "id": "f611e6eb",
   "metadata": {},
   "outputs": [
    {
     "name": "stdout",
     "output_type": "stream",
     "text": [
      ".conda\n",
      ".condarc\n",
      ".continuum\n",
      ".InstallAnywhere\n",
      ".ipynb_checkpoints\n",
      ".ipython\n",
      ".jupyter\n",
      ".matplotlib\n",
      "10_python_basic_Assignment.ipynb\n",
      "11_python_basic_Assignment.ipynb\n",
      "12_python_basic_Assignment.ipynb\n",
      "13_python_basic_Assignment.ipynb\n",
      "14_python_basic_Assignment.ipynb\n",
      "15_python_basic_Assignment.ipynb\n",
      "16_python-basic_Assignment.ipynb\n",
      "17_python_basic_Assignment.ipynb\n",
      "18_python_basic_Assignment .ipynb\n",
      "19_python_basic_Assignment.ipynb\n",
      "1_python_basic_Assignment.ipynb\n",
      "20_python_basic_Assignment.ipynb\n",
      "21_python_basic_Assignment.ipynb\n",
      "2_Assignment.ipynb\n",
      "3_python_basic_Assignment .ipynb\n",
      "4_python_basic_Assignment.ipynb\n",
      "5_python_basic_Assignment.ipynb\n",
      "6_python_basic_assignment.ipynb\n",
      "7_python_basic_Assignment.ipynb\n",
      "8_python_basic_Assignment.ipynb\n",
      "9_python_basic_Assignment.ipynb\n",
      "AMDRM_Install.log\n",
      "AMD_RyzenMaster.log\n",
      "anaconda3\n",
      "AppData\n",
      "Application Data\n",
      "battery-report.html\n",
      "books.csv\n",
      "books.db\n",
      "car_store.ipynb\n",
      "class2.ipynb\n",
      "Contacts\n",
      "Cookies\n",
      "Desktop\n",
      "Documents\n",
      "Downloads\n",
      "Favorites\n",
      "Links\n",
      "Local Settings\n",
      "Microsoft\n",
      "Music\n",
      "My Documents\n",
      "NetHood\n",
      "NTUSER.DAT\n",
      "ntuser.dat.LOG1\n",
      "ntuser.dat.LOG2\n",
      "NTUSER.DAT{a2332f18-cdbf-11ec-8680-002248483d79}.TM.blf\n",
      "NTUSER.DAT{a2332f18-cdbf-11ec-8680-002248483d79}.TMContainer00000000000000000001.regtrans-ms\n",
      "NTUSER.DAT{a2332f18-cdbf-11ec-8680-002248483d79}.TMContainer00000000000000000002.regtrans-ms\n",
      "ntuser.ini\n",
      "Numpy.ipynb\n",
      "OneDrive\n",
      "practice_note.ipynb\n",
      "practice_notes.ipynb\n",
      "PrintHood\n",
      "python_first_class.ipynb\n",
      "Recent\n",
      "Saved Games\n",
      "Searches\n",
      "SendTo\n",
      "Start Menu\n",
      "Templates\n",
      "test.txt\n",
      "today.txt\n",
      "unicorn_EDA.ipynb\n",
      "unique_code.ipynb\n",
      "Untitled.ipynb\n",
      "Untitled1.ipynb\n",
      "Untitled10.ipynb\n",
      "Untitled11.ipynb\n",
      "Untitled12.ipynb\n",
      "Untitled13.ipynb\n",
      "Untitled14.ipynb\n",
      "Untitled15.ipynb\n",
      "Untitled16.ipynb\n",
      "Untitled17.ipynb\n",
      "Untitled18.ipynb\n",
      "Untitled19.ipynb\n",
      "Untitled2.ipynb\n",
      "Untitled20.ipynb\n",
      "Untitled21.ipynb\n",
      "Untitled22.ipynb\n",
      "Untitled23.ipynb\n",
      "Untitled24.ipynb\n",
      "Untitled25.ipynb\n",
      "Untitled26.ipynb\n",
      "Untitled27.ipynb\n",
      "Untitled28.ipynb\n",
      "Untitled29.ipynb\n",
      "Untitled3.ipynb\n",
      "Untitled30.ipynb\n",
      "Untitled31.ipynb\n",
      "Untitled32.ipynb\n",
      "Untitled33.ipynb\n",
      "Untitled34.ipynb\n",
      "Untitled35.ipynb\n",
      "Untitled36.ipynb\n",
      "Untitled37.ipynb\n",
      "Untitled38.ipynb\n",
      "Untitled4.ipynb\n",
      "Untitled5.ipynb\n",
      "Untitled6.ipynb\n",
      "Untitled7.ipynb\n",
      "Untitled8.ipynb\n",
      "Untitled9.ipynb\n",
      "Videos\n",
      "Zomato_EDA.ipynb\n"
     ]
    }
   ],
   "source": [
    "import os\n",
    "\n",
    "files = os.listdir('.')\n",
    "for file in files:\n",
    "    print(file)\n"
   ]
  },
  {
   "cell_type": "markdown",
   "id": "3021578c",
   "metadata": {},
   "source": [
    "# 5. Create a list of all of the files in your parent directory (minimum five files should be available)."
   ]
  },
  {
   "cell_type": "code",
   "execution_count": 2,
   "id": "badb9948",
   "metadata": {},
   "outputs": [
    {
     "name": "stdout",
     "output_type": "stream",
     "text": [
      "All Users\n",
      "dabir\n",
      "Default\n",
      "Default User\n",
      "desktop.ini\n",
      "Public\n"
     ]
    }
   ],
   "source": [
    "import os\n",
    "\n",
    "parent_dir = os.path.abspath(os.path.join(os.getcwd(), os.pardir))\n",
    "files = os.listdir(parent_dir)\n",
    "\n",
    "for file in files:\n",
    "    print(file)\n"
   ]
  },
  {
   "cell_type": "markdown",
   "id": "732eff29",
   "metadata": {},
   "source": [
    "# 6. Use multiprocessing to create three separate processes. Make each one wait a random number of seconds between one and five, print the current time, and then exit."
   ]
  },
  {
   "cell_type": "code",
   "execution_count": 5,
   "id": "07d98cba",
   "metadata": {},
   "outputs": [],
   "source": [
    "import multiprocessing\n",
    "import random\n",
    "import time\n",
    "import datetime\n",
    "\n",
    "def wait_and_print():\n",
    "    wait_time = random.randint(1, 5)\n",
    "    time.sleep(wait_time)\n",
    "    current_time = datetime.datetime.now().strftime(\"%Y-%m-%d %H:%M:%S\")\n",
    "    print(f\"Process {multiprocessing.current_process().name} waited for {wait_time} seconds and printed at {current_time}\")\n",
    "\n",
    "if __name__ == '__main__':\n",
    "    processes = []\n",
    "    for i in range(3):\n",
    "        p = multiprocessing.Process(target=wait_and_print, name=f\"Process-{i}\")\n",
    "        processes.append(p)\n",
    "        p.start()\n",
    "\n",
    "    for p in processes:\n",
    "        p.join()\n"
   ]
  },
  {
   "cell_type": "markdown",
   "id": "f096dd71",
   "metadata": {},
   "source": [
    "# 7. Create a date object of your day of birth."
   ]
  },
  {
   "cell_type": "code",
   "execution_count": 7,
   "id": "0fc0fedb",
   "metadata": {},
   "outputs": [
    {
     "name": "stdout",
     "output_type": "stream",
     "text": [
      "1995-10-22\n"
     ]
    }
   ],
   "source": [
    "from datetime import date\n",
    "\n",
    "my_birthdate = date(1995, 10, 22)\n",
    "print(my_birthdate)\n"
   ]
  },
  {
   "cell_type": "markdown",
   "id": "88cfcb1f",
   "metadata": {},
   "source": [
    "# 8. What day of the week was your day of birth?"
   ]
  },
  {
   "cell_type": "code",
   "execution_count": null,
   "id": "c877bf4f",
   "metadata": {},
   "outputs": [],
   "source": [
    "from datetime import date\n",
    "\n",
    "# create a date object for the birthday\n",
    "birthday = date(1990, 8, 20)\n",
    "\n",
    "# get the day of the week as an integer (0 = Monday, 6 = Sunday)\n",
    "day_of_week = birthday.weekday()\n",
    "\n",
    "# print the day of the week as a string\n",
    "days = ['Monday', 'Tuesday', 'Wednesday', 'Thursday', 'Friday', 'Saturday', 'Sunday']\n",
    "print(\"My day of birth, {} was on a\n"
   ]
  },
  {
   "cell_type": "markdown",
   "id": "c8602bb7",
   "metadata": {},
   "source": [
    "# 9. When will you be (or when were you) 10,000 days old?"
   ]
  },
  {
   "cell_type": "code",
   "execution_count": 9,
   "id": "a95e51a9",
   "metadata": {},
   "outputs": [
    {
     "name": "stdout",
     "output_type": "stream",
     "text": [
      "2017-05-19\n"
     ]
    }
   ],
   "source": [
    "import datetime\n",
    "\n",
    "birthday = datetime.date(1990, 1, 1)  # Replace with your own birthdate\n",
    "days = datetime.timedelta(days=10000)\n",
    "ten_thousand_days_old = birthday + days\n",
    "print(ten_thousand_days_old)\n"
   ]
  }
 ],
 "metadata": {
  "kernelspec": {
   "display_name": "Python 3 (ipykernel)",
   "language": "python",
   "name": "python3"
  },
  "language_info": {
   "codemirror_mode": {
    "name": "ipython",
    "version": 3
   },
   "file_extension": ".py",
   "mimetype": "text/x-python",
   "name": "python",
   "nbconvert_exporter": "python",
   "pygments_lexer": "ipython3",
   "version": "3.10.9"
  }
 },
 "nbformat": 4,
 "nbformat_minor": 5
}
