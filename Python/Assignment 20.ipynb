{
 "cells": [
  {
   "cell_type": "markdown",
   "id": "1a6065bb",
   "metadata": {},
   "source": [
    "# 1. Set the variable test1 to the string &#39;This is a test of the emergency text system,&#39; and save test1 to a file named test.txt."
   ]
  },
  {
   "cell_type": "code",
   "execution_count": 2,
   "id": "93ee46ad",
   "metadata": {},
   "outputs": [],
   "source": [
    "test1 = 'This is a test of the emergency text system,'\n",
    "\n",
    "with open('test.txt', 'w') as file:\n",
    "    file.write(test1)\n"
   ]
  },
  {
   "cell_type": "markdown",
   "id": "7f7e2f23",
   "metadata": {},
   "source": [
    "# 2. Read the contents of the file test.txt into the variable test2. Is there a difference between test 1 and test 2?"
   ]
  },
  {
   "cell_type": "code",
   "execution_count": 3,
   "id": "74464cf6",
   "metadata": {},
   "outputs": [],
   "source": [
    "with open('test.txt', 'r') as file:\n",
    "    test2 = file.read()\n"
   ]
  },
  {
   "cell_type": "markdown",
   "id": "adc19f1b",
   "metadata": {},
   "source": [
    "# 3. Create a CSV file called books.csv by using these lines:title,author,year The Weirdstone of Brisingamen,Alan Garner,1960 Perdido Street Station,China Miéville,2000 Thud!,Terry Pratchett,2005 The Spellman Files,Lisa Lutz,2007 Small Gods,Terry Pratchett,1992"
   ]
  },
  {
   "cell_type": "code",
   "execution_count": 4,
   "id": "d6a5ff7d",
   "metadata": {},
   "outputs": [],
   "source": [
    "import csv\n",
    "\n",
    "books = [    ['title', 'author', 'year'],\n",
    "    ['The Weirdstone of Brisingamen', 'Alan Garner', '1960'],\n",
    "    ['Perdido Street Station', 'China Miéville', '2000'],\n",
    "    ['Thud!', 'Terry Pratchett', '2005'],\n",
    "    ['The Spellman Files', 'Lisa Lutz', '2007'],\n",
    "    ['Small Gods', 'Terry Pratchett', '1992']\n",
    "]\n",
    "\n",
    "with open('books.csv', 'w', newline='') as file:\n",
    "    writer = csv.writer(file)\n",
    "    writer.writerows(books)\n"
   ]
  },
  {
   "cell_type": "code",
   "execution_count": 5,
   "id": "06cbeddf",
   "metadata": {},
   "outputs": [
    {
     "data": {
      "text/plain": [
       "[['title', 'author', 'year'],\n",
       " ['The Weirdstone of Brisingamen', 'Alan Garner', '1960'],\n",
       " ['Perdido Street Station', 'China Miéville', '2000'],\n",
       " ['Thud!', 'Terry Pratchett', '2005'],\n",
       " ['The Spellman Files', 'Lisa Lutz', '2007'],\n",
       " ['Small Gods', 'Terry Pratchett', '1992']]"
      ]
     },
     "execution_count": 5,
     "metadata": {},
     "output_type": "execute_result"
    }
   ],
   "source": [
    "books"
   ]
  },
  {
   "cell_type": "markdown",
   "id": "9b8eac19",
   "metadata": {},
   "source": [
    "# 4. Use the sqlite3 module to create a SQLite database called books.db, and a table called books with these fields: title (text), author (text), and year (integer)."
   ]
  },
  {
   "cell_type": "code",
   "execution_count": 6,
   "id": "0afc89dd",
   "metadata": {},
   "outputs": [],
   "source": [
    "import sqlite3\n",
    "\n",
    "# Create a connection to the database\n",
    "conn = sqlite3.connect('books.db')\n",
    "\n",
    "# Create a cursor object to execute SQL commands\n",
    "c = conn.cursor()\n",
    "\n",
    "# Execute a CREATE TABLE command to create the books table\n",
    "c.execute('''CREATE TABLE books\n",
    "             (title TEXT, author TEXT, year INTEGER)''')\n",
    "\n",
    "# Commit the changes and close the connection\n",
    "conn.commit()\n",
    "conn.close()\n"
   ]
  },
  {
   "cell_type": "markdown",
   "id": "6449ba7e",
   "metadata": {},
   "source": [
    "# 5. Read books.csv and insert its data into the book table."
   ]
  },
  {
   "cell_type": "code",
   "execution_count": null,
   "id": "a3641efc",
   "metadata": {},
   "outputs": [],
   "source": [
    "import sqlite3\n",
    "import csv\n",
    "\n",
    "# Open a connection to the database\n",
    "conn = sqlite3.connect('books.db')\n",
    "\n",
    "# Create a cursor object to execute SQL commands\n",
    "c = conn.cursor()\n",
    "\n",
    "# Read the data from the CSV file and insert it into the books table\n",
    "with open('books.csv', 'r') as file:\n",
    "    reader = csv.reader(file)\n",
    "    next(reader) # skip the header row\n",
    "    for row in reader:\n",
    "        c.execute(\"INSERT INTO books (title, author, year) VALUES (?, ?, ?)\", row)\n",
    "\n",
    "# Commit the changes and close the connection\n",
    "conn.commit()\n",
    "conn.close()\n"
   ]
  },
  {
   "cell_type": "markdown",
   "id": "2588ddf1",
   "metadata": {},
   "source": [
    "# 6. Select and print the title column from the book table in alphabetical order."
   ]
  },
  {
   "cell_type": "code",
   "execution_count": 7,
   "id": "8cba1b9e",
   "metadata": {},
   "outputs": [],
   "source": [
    "import sqlite3\n",
    "\n",
    "# Open a connection to the database\n",
    "conn = sqlite3.connect('books.db')\n",
    "\n",
    "# Create a cursor object to execute SQL commands\n",
    "c = conn.cursor()\n",
    "\n",
    "# Select the title column from the books table and order by title in alphabetical order\n",
    "c.execute(\"SELECT title FROM books ORDER BY title\")\n",
    "\n",
    "# Fetch all the rows and print the title column\n",
    "rows = c.fetchall()\n",
    "for row in rows:\n",
    "    print(row[0])\n",
    "\n",
    "# Close the connection\n",
    "conn.close()\n"
   ]
  },
  {
   "cell_type": "markdown",
   "id": "bb2f6d7a",
   "metadata": {},
   "source": [
    "# 7. From the book table, select and print all columns in the order of publication."
   ]
  },
  {
   "cell_type": "code",
   "execution_count": null,
   "id": "f516d983",
   "metadata": {},
   "outputs": [],
   "source": [
    "import sqlite3\n",
    "\n",
    "# connect to the database\n",
    "conn = sqlite3.connect(\"books.db\")\n",
    "\n",
    "# create a cursor object\n",
    "cur = conn.cursor()\n",
    "\n",
    "# select and print all columns in order of publication\n",
    "cur.execute(\"SELECT * FROM books ORDER BY year ASC\")\n",
    "rows = cur.fetchall()\n",
    "for row in rows:\n",
    "    print(row)\n",
    "\n",
    "# close the connection\n",
    "conn.close()\n"
   ]
  },
  {
   "cell_type": "markdown",
   "id": "8db90d86",
   "metadata": {},
   "source": [
    "# 8. Use the sqlalchemy module to connect to the sqlite3 database books.db that you just made in exercise 6."
   ]
  },
  {
   "cell_type": "code",
   "execution_count": null,
   "id": "25d9ff7e",
   "metadata": {},
   "outputs": [],
   "source": [
    "from sqlalchemy import create_engine\n",
    "\n",
    "# create a database engine\n",
    "engine = create_engine('sqlite:///books.db', echo=True)\n",
    "\n",
    "# connect to the database\n",
    "connection = engine.connect()\n",
    "\n",
    "# execute a test query\n",
    "result = connection.execute(\"SELECT * FROM books\")\n",
    "for row in result:\n",
    "    print(row)\n",
    "\n",
    "# close the connection\n",
    "connection.close()\n"
   ]
  },
  {
   "cell_type": "markdown",
   "id": "d2be7667",
   "metadata": {},
   "source": [
    "# 9. Increment the count field of test and print it."
   ]
  },
  {
   "cell_type": "code",
   "execution_count": null,
   "id": "6eddce52",
   "metadata": {},
   "outputs": [],
   "source": [
    "import redis\n",
    "\n",
    "# Connect to Redis\n",
    "r = redis.Redis()\n",
    "\n",
    "# Increment count field by 1\n",
    "r.hincrby('test', 'count', 1)\n",
    "\n",
    "# Get the updated count value and print it\n",
    "count = r.hget('test', 'count').decode('utf-8')\n",
    "print(f\"Count: {count}\")\n"
   ]
  }
 ],
 "metadata": {
  "kernelspec": {
   "display_name": "Python 3 (ipykernel)",
   "language": "python",
   "name": "python3"
  },
  "language_info": {
   "codemirror_mode": {
    "name": "ipython",
    "version": 3
   },
   "file_extension": ".py",
   "mimetype": "text/x-python",
   "name": "python",
   "nbconvert_exporter": "python",
   "pygments_lexer": "ipython3",
   "version": "3.10.9"
  }
 },
 "nbformat": 4,
 "nbformat_minor": 5
}
