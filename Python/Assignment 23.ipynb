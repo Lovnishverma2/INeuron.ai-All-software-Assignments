{
 "cells": [
  {
   "cell_type": "markdown",
   "id": "7b018507",
   "metadata": {},
   "source": [
    "# 1. What is the result of the code, and why?\n",
    "&gt;&gt;&gt; def func(a, b=6, c=8):\n",
    "print(a, b, c)\n",
    "&gt;&gt;&gt; func(1, 2)"
   ]
  },
  {
   "cell_type": "markdown",
   "id": "3e66690d",
   "metadata": {},
   "source": [
    "The output of the code will be `1 2 8`. \n",
    "\n",
    "The function `func()` is defined with three parameters: `a`, `b`, and `c`, where `b` and `c` have default values of 6 and 8, respectively. In the function call, the arguments `1` and `2` are assigned to parameters `a` and `b`, respectively. Since a value is provided for `b`, it is not set to its default value. However, `c` is not assigned a value in the function call, so it retains its default value of 8. Therefore, when the function is called with `func(1, 2)`, it prints `1 2 8`."
   ]
  },
  {
   "cell_type": "markdown",
   "id": "6e4f3e97",
   "metadata": {},
   "source": [
    "# 2. What is the result of this code, and why?\n",
    "&gt;&gt;&gt; def func(a, b, c=5):\n",
    "print(a, b, c)\n",
    "&gt;&gt;&gt; func(1, c=3, b=2)"
   ]
  },
  {
   "cell_type": "markdown",
   "id": "ad60dbbd",
   "metadata": {},
   "source": [
    "The output of the code will be `1 2 3`. \n",
    "\n",
    "In the function call, `1` is passed as `a`, `2` is passed as `b`, and `c` is assigned a default value of `5`. However, in the function call, the value of `c` is explicitly set to `3`. Since the order of the named parameters is not important in a function call in Python, the order of `b` and `c` doesn't matter, and the output shows that `b` is set to `2` and `c` is set to `3`."
   ]
  },
  {
   "cell_type": "markdown",
   "id": "60b7d7a6",
   "metadata": {},
   "source": [
    "# 3. How about this code: what is its result, and why?\n",
    "&gt;&gt;&gt; def func(a, *pargs):\n",
    "print(a, pargs)\n",
    "&gt;&gt;&gt; func(1, 2, 3)"
   ]
  },
  {
   "cell_type": "markdown",
   "id": "381e3bee",
   "metadata": {},
   "source": [
    "1 (2, 3)\n",
    "* he function func has one required parameter a and one parameter with the * operator which collects all remaining positional arguments into a tuple pargs. When the function is called with arguments 1, 2, 3, the value 1 is assigned to parameter a, and the remaining arguments 2, 3 are collected into pargs. The print statement then prints 1 followed by the tuple (2, 3)."
   ]
  },
  {
   "cell_type": "markdown",
   "id": "91b1d899",
   "metadata": {},
   "source": [
    "# 4. What does this code print, and why?\n",
    "&gt;&gt;&gt; def func(a, **kargs):\n",
    "print(a, kargs)\n",
    "&gt;&gt;&gt; func(a=1, c=3, b=2)"
   ]
  },
  {
   "cell_type": "markdown",
   "id": "d38e2cd8",
   "metadata": {},
   "source": [
    "1 {'c': 3, 'b': 2}\n",
    "* Here, the function func() is defined with two parameters: a and **kargs, where **kargs is used to capture any number of keyword arguments passed to the function. When calling the function, keyword arguments a=1, c=3, and b=2 are passed. The function prints the value of a as 1 and the rest of the keyword arguments passed in the form of a dictionary as {'c': 3, 'b': 2}."
   ]
  },
  {
   "cell_type": "markdown",
   "id": "b7099197",
   "metadata": {},
   "source": [
    "# 5. What gets printed by this, and explain?\n",
    "&gt;&gt;&gt; def func(a, b, c=8, d=5): print(a, b, c, d)\n",
    "&gt;&gt;&gt; func(1, *(5, 6))"
   ]
  },
  {
   "cell_type": "markdown",
   "id": "85ff6e1d",
   "metadata": {},
   "source": [
    "This code will print the values of a, b, c, and d which are passed to the func() function. The values for a and b are passed as positional arguments 1 and 5, 6 respectively, using the unpacking operator *. The value of c is the default value of 8 and d is passed as a default argument with value 5. Therefore, the output of the code will be:\n",
    "\n",
    "1 5 6 5\n"
   ]
  },
  {
   "cell_type": "markdown",
   "id": "f3b53f38",
   "metadata": {},
   "source": [
    "# 6. what is the result of this, and explain?\n",
    "&gt;&gt;&gt; def func(a, b, c): a = 2; b[0] = &#39;x&#39;; c[&#39;a&#39;] = &#39;y&#39;\n",
    "&gt;&gt;&gt; l=1; m=[1]; n={&#39;a&#39;:0}\n",
    "&gt;&gt;&gt; func(l, m, n)\n",
    "\n",
    "&gt;&gt;&gt; l, m, n"
   ]
  },
  {
   "cell_type": "markdown",
   "id": "af5734bf",
   "metadata": {},
   "source": [
    "The function `func` modifies the arguments passed to it. After calling `func(l, m, n)`, `l` still holds the value `1`, `m` is modified to `['x']`, and `n` is modified to `{'a': 'y'}`. \n",
    "\n",
    "Therefore, when we print `l, m, n`, the output will be `(1, ['x'], {'a': 'y'})`."
   ]
  }
 ],
 "metadata": {
  "kernelspec": {
   "display_name": "Python 3 (ipykernel)",
   "language": "python",
   "name": "python3"
  },
  "language_info": {
   "codemirror_mode": {
    "name": "ipython",
    "version": 3
   },
   "file_extension": ".py",
   "mimetype": "text/x-python",
   "name": "python",
   "nbconvert_exporter": "python",
   "pygments_lexer": "ipython3",
   "version": "3.10.9"
  }
 },
 "nbformat": 4,
 "nbformat_minor": 5
}
