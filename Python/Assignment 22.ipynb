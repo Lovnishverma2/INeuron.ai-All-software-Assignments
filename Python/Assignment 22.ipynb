{
 "cells": [
  {
   "cell_type": "markdown",
   "id": "8cb38eda",
   "metadata": {},
   "source": [
    "# 1. What is the result of the code, and explain?\n",
    "\n",
    "&gt;&gt;&gt; X = &#39;iNeuron&#39;\n",
    "&gt;&gt;&gt; def func():\n",
    "print(X)\n",
    "\n",
    "&gt;&gt;&gt; func()"
   ]
  },
  {
   "cell_type": "markdown",
   "id": "7f3fa503",
   "metadata": {},
   "source": [
    "* iNeuron\n",
    "* In the given code, a string iNeuron is assigned to variable X. After that, a function func() is defined which prints the value of X.\n",
    "Then, the function func() is called, which simply prints the value of X.\n",
    "Since X is a global variable and is accessible inside the function, it prints iNeuron without any issues."
   ]
  },
  {
   "cell_type": "markdown",
   "id": "377e84a6",
   "metadata": {},
   "source": [
    "# 2. What is the result of the code, and explain?\n",
    "\n",
    "&gt;&gt;&gt; X = &#39;iNeuron&#39;\n",
    "&gt;&gt;&gt; def func():\n",
    "X = &#39;NI!&#39;\n",
    "\n",
    "&gt;&gt;&gt; func()\n",
    "&gt;&gt;&gt; print(X)"
   ]
  },
  {
   "cell_type": "markdown",
   "id": "459e4cd6",
   "metadata": {},
   "source": [
    "* iNeuron\n",
    "* The function func() is defined and it creates a new variable X with the value 'NI!'. \n",
    "However, this X is a local variable that is only defined within the scope of the function. When func() is called, it does not modify the global variable X that was defined outside the function.\n",
    "\n",
    "Therefore, after calling func(), the global variable X still has the value 'iNeuron'.\n",
    "When print(X) is executed, it will output 'iNeuron'."
   ]
  },
  {
   "cell_type": "markdown",
   "id": "aecad062",
   "metadata": {},
   "source": [
    "# 3. What does this code print, and why?\n",
    "\n",
    "&gt;&gt;&gt; X = &#39;iNeuron&#39;\n",
    "&gt;&gt;&gt; def func():\n",
    "X = &#39;NI&#39;\n",
    "print(X)\n",
    "\n",
    "&gt;&gt;&gt; func()\n",
    "&gt;&gt;&gt; print(X)"
   ]
  },
  {
   "cell_type": "markdown",
   "id": "8d852892",
   "metadata": {},
   "source": [
    "* The code will print \"NI\" inside the function and \"iNeuron\" outside the function because X is assigned to \"iNeuron\" before defining the function. When the function is called, a new variable X is created and assigned the value \"NI\". However, this new variable is local to the function and doesn't affect the value of the global variable X. Therefore, when the print statement is executed outside the function, it prints the value \"iNeuron\", which is the value of the global variable X."
   ]
  },
  {
   "cell_type": "markdown",
   "id": "6cf32dd6",
   "metadata": {},
   "source": [
    "# 4. What output does this code produce? Why?\n",
    "\n",
    "&gt;&gt;&gt; X = &#39;iNeuron&#39;\n",
    "&gt;&gt;&gt; def func():\n",
    "global X\n",
    "X = &#39;NI&#39;\n",
    "\n",
    "&gt;&gt;&gt; func()\n",
    "&gt;&gt;&gt; print(X)"
   ]
  },
  {
   "cell_type": "markdown",
   "id": "3c60ae28",
   "metadata": {},
   "source": [
    "* The output of this code will be `NI`. \n",
    "When `func()` is called, it declares `X` as a global variable, so the `X` inside the function refers to the global `X` outside the function. Then, it sets the value of `X` to `NI`. \n",
    "When the function finishes executing, the value of `X` has been modified globally to `NI`, so when `print(X)` is called outside the function, it will print `NI`."
   ]
  },
  {
   "cell_type": "markdown",
   "id": "a77fadf0",
   "metadata": {},
   "source": [
    "# 5. What about this code—what’s the output, and why?\n",
    "\n",
    "&gt;&gt;&gt; X = &#39;iNeuron&#39;\n",
    "&gt;&gt;&gt; def func():\n",
    "X = &#39;NI&#39;\n",
    "def nested():\n",
    "print(X)\n",
    "nested()\n",
    "\n",
    "&gt;&gt;&gt; func()\n",
    "&gt;&gt;&gt; X"
   ]
  },
  {
   "cell_type": "markdown",
   "id": "82a99b1f",
   "metadata": {},
   "source": [
    "* NI\n",
    "'iNeuron'\n",
    "* When func() is called, it defines a local variable X and sets it to 'NI'.\n",
    "Then, it defines a nested function nested() which simply prints the value of X. Finally, it calls nested(). Since nested() doesn't define its own variable X, it uses the value of X from the outer function, which is 'NI'. Therefore, 'NI' is printed.\n",
    "After the execution of func(), the value of the global variable X is still 'iNeuron', so when X is printed at the end, it prints 'iNeuron'."
   ]
  },
  {
   "cell_type": "markdown",
   "id": "4eb3b0d8",
   "metadata": {},
   "source": [
    "# 6. How about this code: what is its output in Python 3, and explain?\n",
    "\n",
    "&gt;&gt;&gt; def func():\n",
    "X = &#39;NI&#39;\n",
    "def nested():\n",
    "nonlocal X\n",
    "X = &#39;Spam&#39;\n",
    "nested()\n",
    "print(X)\n",
    "\n",
    "&gt;&gt;&gt; func()"
   ]
  },
  {
   "cell_type": "markdown",
   "id": "ea1f5953",
   "metadata": {},
   "source": [
    "* In Python 3, this code will output \"Spam\". \n",
    "The reason is that the keyword `nonlocal` allows the inner function, `nested()`, to access and modify a variable from the outer function, `func()`. Here, `X` is a non-local variable, which means that it is defined in the enclosing function `func()`, but it is not a global variable. \n",
    "When `func()` is called, the nested function `nested()` is defined, and then immediately called.\n",
    "`nested()` modifies the non-local variable `X` to be \"Spam\", and then the modified value is printed by `print(X)` at the end of `func()`."
   ]
  }
 ],
 "metadata": {
  "kernelspec": {
   "display_name": "Python 3 (ipykernel)",
   "language": "python",
   "name": "python3"
  },
  "language_info": {
   "codemirror_mode": {
    "name": "ipython",
    "version": 3
   },
   "file_extension": ".py",
   "mimetype": "text/x-python",
   "name": "python",
   "nbconvert_exporter": "python",
   "pygments_lexer": "ipython3",
   "version": "3.10.9"
  }
 },
 "nbformat": 4,
 "nbformat_minor": 5
}
